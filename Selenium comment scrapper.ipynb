{
 "cells": [
  {
   "cell_type": "markdown",
   "id": "68ab1165",
   "metadata": {},
   "source": [
    "Prepared by Mike Mudimba NS2100042 (CSC 5741: Data Mining and Warehousing) Mini Project Practical Assignment\n",
    "\n",
    "This Jupyter Notebook uses Selenium to extract comments on the Zambian Watchdog Facebook page. It automatically loops from a list of selected urls in the process extracting all:\n",
    "\n",
    "1. User names\n",
    "2. User comment\n",
    "3. Number of reactions\n",
    "\n",
    "It saves all extracted data to a scrapped_data.csv file"
   ]
  },
  {
   "cell_type": "markdown",
   "id": "28fba90e",
   "metadata": {},
   "source": [
    "# Import necessary library files"
   ]
  },
  {
   "cell_type": "code",
   "execution_count": 19,
   "id": "22104f79",
   "metadata": {},
   "outputs": [],
   "source": [
    "#imports here\n",
    "from selenium import webdriver\n",
    "from selenium.webdriver.common.keys import Keys\n",
    "from selenium.webdriver.support import expected_conditions as EC\n",
    "from selenium.webdriver.common.by import By\n",
    "from selenium.webdriver.support.wait import WebDriverWait\n",
    "import os\n",
    "import wget\n",
    "import time"
   ]
  },
  {
   "cell_type": "markdown",
   "id": "06352643",
   "metadata": {},
   "source": [
    "# Block Chrome alerts"
   ]
  },
  {
   "cell_type": "code",
   "execution_count": 20,
   "id": "6f4317d8",
   "metadata": {},
   "outputs": [],
   "source": [
    "#credits to pythonjar, stackoverflow\n",
    "chrome_options = webdriver.ChromeOptions()\n",
    "prefs = {\"profile.default_content_setting_values.notifications\" : 4}\n",
    "chrome_options.add_experimental_option(\"prefs\",prefs)"
   ]
  },
  {
   "cell_type": "markdown",
   "id": "e4a0b89a",
   "metadata": {},
   "source": [
    "# Access facebook and login"
   ]
  },
  {
   "cell_type": "markdown",
   "id": "f959a0c3",
   "metadata": {},
   "source": [
    "To successfully scrap comments off Facebook, we will need to use Chromedriver to enable as read data passed through the Chrome web browser."
   ]
  },
  {
   "cell_type": "code",
   "execution_count": 21,
   "id": "8605d776",
   "metadata": {},
   "outputs": [],
   "source": [
    "#specify the path to chromedriver.exe (download and save on your computer)\n",
    "driver = webdriver.Chrome('C:/Users/mikem/chromedriver.exe', options=chrome_options)\n",
    "\n",
    "#open the webpage\n",
    "driver.get(\"http://www.facebook.com\")\n",
    "\n",
    "#target username\n",
    "username = WebDriverWait(driver, 10).until(EC.element_to_be_clickable((By.CSS_SELECTOR, \"input[name='email']\")))\n",
    "password = WebDriverWait(driver, 10).until(EC.element_to_be_clickable((By.CSS_SELECTOR, \"input[name='pass']\")))\n",
    "\n",
    "#enter username and password\n",
    "username.clear()\n",
    "username.send_keys(\"email_here\")\n",
    "password.clear()\n",
    "password.send_keys(\"password_here\")\n",
    "\n",
    "#target the login button and click it\n",
    "button = WebDriverWait(driver, 2).until(EC.element_to_be_clickable((By.CSS_SELECTOR, \"button[type='submit']\"))).click()\n",
    "\n",
    "#We are logged in!"
   ]
  },
  {
   "cell_type": "markdown",
   "id": "221ceac4",
   "metadata": {},
   "source": [
    "# Define the posts we will be scrapping data from"
   ]
  },
  {
   "cell_type": "code",
   "execution_count": 22,
   "id": "e70b6a45",
   "metadata": {},
   "outputs": [],
   "source": [
    "# We will extract data from 20 facebook posts on the facebook page\n",
    "\n",
    "post = [\n",
    "         \"https://mbasic.facebook.com/story.php?story_fbid=4515405018510213&id=129987587052000&refid=17&_ft_=mf_story_key.4515405018510213%3Atop_level_post_id.4515405018510213%3Atl_objid.4515405018510213%3Acontent_owner_id_new.129987587052000%3Athrowback_story_fbid.4515405018510213%3Apage_id.129987587052000%3Astory_location.4%3Atds_flgs.3%3Aott.AX_OmjwQiYoDv8P4%3Athid.129987587052000%3A306061129499414%3A2%3A0%3A1630479599%3A-7661448856687709388&__tn__=%2AW-R/\",\n",
    "         \"https://mbasic.facebook.com/story.php?story_fbid=4513814035335978&id=129987587052000&refid=17&_ft_=mf_story_key.4513814035335978%3Atop_level_post_id.4513814035335978%3Atl_objid.4513814035335978%3Acontent_owner_id_new.129987587052000%3Athrowback_story_fbid.4513814035335978%3Apage_id.129987587052000%3Aphoto_attachments_list.%5B4513813768669338%2C4513813882002660%5D%3Astory_location.4%3Astory_attachment_style.album%3Atds_flgs.3%3Aott.AX9w0iYy-ZJz0ULQ%3Athid.129987587052000%3A306061129499414%3A2%3A0%3A1630479599%3A-1381802933034242003&__tn__=%2AW-R/\",\n",
    "         \"https://mbasic.facebook.com/story.php?story_fbid=4513384472045601&id=129987587052000&refid=17&_ft_=mf_story_key.4513384472045601%3Atop_level_post_id.4513384472045601%3Atl_objid.4513384472045601%3Acontent_owner_id_new.129987587052000%3Athrowback_story_fbid.4513384472045601%3Apage_id.129987587052000%3Astory_location.4%3Astory_attachment_style.video_inline%3Atds_flgs.3%3Aott.AX-9yH2bnzmp7xWX%3Athid.129987587052000%3A306061129499414%3A2%3A0%3A1630479599%3A4764546387985999338&__tn__=%2AW-R/\",\n",
    "         \"https://mbasic.facebook.com/story.php?story_fbid=4513270115390370&id=129987587052000&refid=17&_ft_=mf_story_key.4513270115390370%3Atop_level_post_id.4513270115390370%3Atl_objid.4513270115390370%3Acontent_owner_id_new.129987587052000%3Athrowback_story_fbid.4513270115390370%3Apage_id.129987587052000%3Astory_location.4%3Astory_attachment_style.video_inline%3Atds_flgs.3%3Aott.AX9GndC9a72wb0Ua%3Athid.129987587052000%3A306061129499414%3A2%3A0%3A1630479599%3A9120059013044962067&__tn__=%2AW-R/\",\n",
    "         \"https://mbasic.facebook.com/story.php?story_fbid=4514294881954560&id=129987587052000&refid=17&_ft_=mf_story_key.4514294881954560%3Atop_level_post_id.4514294881954560%3Atl_objid.4514294881954560%3Acontent_owner_id_new.129987587052000%3Athrowback_story_fbid.4514294881954560%3Apage_id.129987587052000%3Astory_location.4%3Astory_attachment_style.photo%3Atds_flgs.3%3Aott.AX8tXf_L9NisDZBC%3Athid.129987587052000%3A306061129499414%3A2%3A0%3A1630479599%3A5749355745092118280&__tn__=%2AW-R/\",\n",
    "         \"https://mbasic.facebook.com/story.php?story_fbid=4516058265111555&id=129987587052000&refid=17&_ft_=mf_story_key.4516058265111555%3Atop_level_post_id.4516058265111555%3Atl_objid.4516058265111555%3Acontent_owner_id_new.129987587052000%3Athrowback_story_fbid.4516058265111555%3Apage_id.129987587052000%3Aphoto_attachments_list.%5B4516057555111626%2C4516057581778290%2C4516057871778261%2C4516057868444928%5D%3Astory_location.4%3Astory_attachment_style.album%3Atds_flgs.3%3Aott.AX9uH-HVvHewHjMD%3Athid.129987587052000%3A306061129499414%3A2%3A0%3A1630479599%3A-224539940005134756&__tn__=%2AW-R/\",\n",
    "         \"https://mbasic.facebook.com/story.php?story_fbid=4515997288450986&id=129987587052000&refid=17&_ft_=mf_story_key.4515997288450986%3Atop_level_post_id.4515997288450986%3Atl_objid.4515997288450986%3Acontent_owner_id_new.129987587052000%3Athrowback_story_fbid.4515997288450986%3Apage_id.129987587052000%3Astory_location.4%3Astory_attachment_style.video_inline%3Atds_flgs.3%3Aott.AX8aDIK9vjg62gXt%3Athid.129987587052000%3A306061129499414%3A2%3A0%3A1630479599%3A-7318898135064293874&__tn__=%2AW-R/\",\n",
    "         \"https://mbasic.facebook.com/story.php?story_fbid=4515693708481344&id=129987587052000&refid=17&_ft_=mf_story_key.4515693708481344%3Atop_level_post_id.4515693708481344%3Atl_objid.4515693708481344%3Acontent_owner_id_new.129987587052000%3Athrowback_story_fbid.4515693708481344%3Apage_id.129987587052000%3Astory_location.4%3Astory_attachment_style.video_inline%3Atds_flgs.3%3Aott.AX_e_p-ONLVkmQ1S%3Athid.129987587052000%3A306061129499414%3A2%3A0%3A1630479599%3A4963303536925760714&__tn__=%2AW-R/\",\n",
    "         \"https://mbasic.facebook.com/story.php?story_fbid=4519727581411290&id=129987587052000&refid=17&_ft_=mf_story_key.4519727581411290%3Atop_level_post_id.4519727581411290%3Atl_objid.4519727581411290%3Acontent_owner_id_new.129987587052000%3Athrowback_story_fbid.4519727581411290%3Apage_id.129987587052000%3Astory_location.4%3Atds_flgs.3%3Aott.AX--rdKevoc8hORI%3Athid.129987587052000%3A306061129499414%3A2%3A0%3A1630479599%3A-5444579685592988049&__tn__=%2AW-R/\",\n",
    "         \"https://mbasic.facebook.com/story.php?story_fbid=4519722528078462&id=129987587052000&refid=17&_ft_=mf_story_key.4519722528078462%3Atop_level_post_id.4519722528078462%3Atl_objid.4519722528078462%3Acontent_owner_id_new.129987587052000%3Athrowback_story_fbid.4519722528078462%3Apage_id.129987587052000%3Astory_location.4%3Astory_attachment_style.video_inline%3Atds_flgs.3%3Aott.AX-zq5Dk80UrmzYY%3Athid.129987587052000%3A306061129499414%3A2%3A0%3A1630479599%3A7068669648020054871%3Apage_insights.%7B%22129987587052000%22%3A%7B%22page_id%22%3A129987587052000%2C%22page_id_type%22%3A%22page%22%2C%22actor_id%22%3A129987587052000%2C%22dm%22%3A%7B%22isShare%22%3A0%2C%22originalPostOwnerID%22%3A0%7D%2C%22psn%22%3A%22EntStatusCreationStory%22%2C%22post_context%22%3A%7B%22object_fbtype%22%3A266%2C%22publish_time%22%3A1628196996%2C%22story_name%22%3A%22EntStatusCreationStory%22%2C%22story_fbid%22%3A%5B4519722528078462%5D%7D%2C%22role%22%3A1%2C%22sl%22%3A4%2C%22targets%22%3A%5B%7B%22actor_id%22%3A129987587052000%2C%22page_id%22%3A129987587052000%2C%22post_id%22%3A4519722528078462%2C%22role%22%3A1%2C%22share_id%22%3A0%7D%5D%7D%7D&__tn__=%2AW-R/\",\n",
    "         \"https://mbasic.facebook.com/story.php?story_fbid=4518813088169406&id=129987587052000&refid=17&_ft_=mf_story_key.4518813088169406%3Atop_level_post_id.4518813088169406%3Atl_objid.4518813088169406%3Acontent_owner_id_new.129987587052000%3Athrowback_story_fbid.4518813088169406%3Apage_id.129987587052000%3Astory_location.4%3Astory_attachment_style.video_inline%3Atds_flgs.3%3Aott.AX84t_-KuTrNN8OX%3Athid.129987587052000%3A306061129499414%3A2%3A0%3A1630479599%3A6075248826847843098%3Apage_insights.%7B%22129987587052000%22%3A%7B%22page_id%22%3A129987587052000%2C%22page_id_type%22%3A%22page%22%2C%22actor_id%22%3A129987587052000%2C%22dm%22%3A%7B%22isShare%22%3A0%2C%22originalPostOwnerID%22%3A0%7D%2C%22psn%22%3A%22EntStatusCreationStory%22%2C%22post_context%22%3A%7B%22object_fbtype%22%3A266%2C%22publish_time%22%3A1628172380%2C%22story_name%22%3A%22EntStatusCreationStory%22%2C%22story_fbid%22%3A%5B4518813088169406%5D%7D%2C%22role%22%3A1%2C%22sl%22%3A4%2C%22targets%22%3A%5B%7B%22actor_id%22%3A129987587052000%2C%22page_id%22%3A129987587052000%2C%22post_id%22%3A4518813088169406%2C%22role%22%3A1%2C%22share_id%22%3A0%7D%5D%7D%7D&__tn__=%2AW-R/\",\n",
    "         \"https://mbasic.facebook.com/story.php?story_fbid=4518682384849143&id=129987587052000&refid=17&_ft_=mf_story_key.4518682384849143%3Atop_level_post_id.4518682384849143%3Atl_objid.4518682384849143%3Acontent_owner_id_new.129987587052000%3Athrowback_story_fbid.4518682384849143%3Apage_id.129987587052000%3Aphoto_attachments_list.%5B4518682034849178%2C4518682098182505%2C4518682171515831%2C4518682091515839%5D%3Astory_location.4%3Astory_attachment_style.album%3Atds_flgs.3%3Aott.AX9hOYo0xfT44dN_%3Athid.129987587052000%3A306061129499414%3A2%3A0%3A1630479599%3A9061917150044435860%3Apage_insights.%7B%22129987587052000%22%3A%7B%22page_id%22%3A129987587052000%2C%22page_id_type%22%3A%22page%22%2C%22actor_id%22%3A129987587052000%2C%22dm%22%3A%7B%22isShare%22%3A0%2C%22originalPostOwnerID%22%3A0%7D%2C%22psn%22%3A%22EntStatusCreationStory%22%2C%22post_context%22%3A%7B%22object_fbtype%22%3A266%2C%22publish_time%22%3A1628169224%2C%22story_name%22%3A%22EntStatusCreationStory%22%2C%22story_fbid%22%3A%5B4518682384849143%5D%7D%2C%22role%22%3A1%2C%22sl%22%3A4%2C%22targets%22%3A%5B%7B%22actor_id%22%3A129987587052000%2C%22page_id%22%3A129987587052000%2C%22post_id%22%3A4518682384849143%2C%22role%22%3A1%2C%22share_id%22%3A0%7D%5D%7D%7D&__tn__=%2AW-R/\",\n",
    "         \"https://mbasic.facebook.com/story.php?story_fbid=3900316330019088&id=129987587052000&refid=17&_ft_=mf_story_key.3900316330019088%3Atop_level_post_id.3900316330019088%3Atl_objid.3900316330019088%3Acontent_owner_id_new.129987587052000%3Athrowback_story_fbid.3900316330019088%3Apage_id.129987587052000%3Astory_location.4%3Astory_attachment_style.video_inline%3Atds_flgs.3%3Aott.AX9UzA4X_W9RjGWL%3Athid.129987587052000%3A306061129499414%3A2%3A1577865600%3A1609487999%3A4055527268880093711&__tn__=%2AW-R/\",\n",
    "         \"https://mbasic.facebook.com/story.php?story_fbid=3899720956745292&id=129987587052000&refid=17&_ft_=mf_story_key.3899720956745292%3Atop_level_post_id.3899720956745292%3Atl_objid.3899720956745292%3Acontent_owner_id_new.129987587052000%3Athrowback_story_fbid.3899720956745292%3Apage_id.129987587052000%3Astory_location.4%3Atds_flgs.3%3Aott.AX-U7c9_wv6AO82P%3Athid.129987587052000%3A306061129499414%3A2%3A1577865600%3A1609487999%3A497324930107568536&__tn__=%2AW-R/\",\n",
    "         \"https://mbasic.facebook.com/story.php?story_fbid=3901054456611942&id=129987587052000&refid=17&_ft_=mf_story_key.3901054456611942%3Atop_level_post_id.3901054456611942%3Atl_objid.3901054456611942%3Acontent_owner_id_new.129987587052000%3Athrowback_story_fbid.3901054456611942%3Apage_id.129987587052000%3Astory_location.4%3Astory_attachment_style.photo%3Atds_flgs.3%3Aott.AX-ndvKLc9qQ-7kx%3Athid.129987587052000%3A306061129499414%3A2%3A1577865600%3A1609487999%3A1701176032535452562&__tn__=%2AW-R/\",\n",
    "         \"https://mbasic.facebook.com/story.php?story_fbid=3902084193175635&id=129987587052000&refid=17&_ft_=mf_story_key.3902084193175635%3Atop_level_post_id.3902084193175635%3Atl_objid.3902084193175635%3Acontent_owner_id_new.129987587052000%3Athrowback_story_fbid.3902084193175635%3Apage_id.129987587052000%3Astory_location.4%3Atds_flgs.3%3Aott.AX-d3Q-rhnC4-Paj%3Athid.129987587052000%3A306061129499414%3A2%3A1577865600%3A1609487999%3A7208989457572617613&__tn__=%2AW-R/\",\n",
    "         \"https://mbasic.facebook.com/story.php?story_fbid=2918194631564601&id=129987587052000&refid=17&_ft_=mf_story_key.2918194631564601%3Atop_level_post_id.2918194631564601%3Atl_objid.2918194631564601%3Acontent_owner_id_new.129987587052000%3Athrowback_story_fbid.2918194631564601%3Apage_id.129987587052000%3Astory_location.4%3Atds_flgs.3%3Aott.AX_RqtAXyxFs9lpt%3Athid.129987587052000%3A306061129499414%3A2%3A1546329600%3A1577865599%3A4447231093150901077&__tn__=%2AW-R/\",\n",
    "         \"https://mbasic.facebook.com/story.php?story_fbid=2918121584905239&id=129987587052000&refid=17&_ft_=mf_story_key.2918121584905239%3Atop_level_post_id.2918121584905239%3Atl_objid.2918121584905239%3Acontent_owner_id_new.129987587052000%3Athrowback_story_fbid.2918121584905239%3Apage_id.129987587052000%3Astory_location.4%3Atds_flgs.3%3Aott.AX9Ywtms5_ILs6ur%3Athid.129987587052000%3A306061129499414%3A2%3A1546329600%3A1577865599%3A3386951765836696431&__tn__=%2AW-R/\",\n",
    "         \"https://mbasic.facebook.com/story.php?story_fbid=2918071071576957&id=129987587052000&refid=17&_ft_=mf_story_key.2918071071576957%3Atop_level_post_id.2918071071576957%3Atl_objid.2918071071576957%3Acontent_owner_id_new.129987587052000%3Athrowback_story_fbid.2918071071576957%3Apage_id.129987587052000%3Astory_location.4%3Astory_attachment_style.video_inline%3Atds_flgs.3%3Aott.AX_M1jotvhScBpI8%3Athid.129987587052000%3A306061129499414%3A2%3A1546329600%3A1577865599%3A8785660007542673756&__tn__=%2AW-R/\",\n",
    "         \"https://mbasic.facebook.com/story.php?story_fbid=2917659048284826&id=129987587052000&refid=17&_ft_=mf_story_key.2917659048284826%3Atop_level_post_id.2917659048284826%3Atl_objid.2917659048284826%3Acontent_owner_id_new.129987587052000%3Athrowback_story_fbid.2917659048284826%3Apage_id.129987587052000%3Astory_location.4%3Astory_attachment_style.photo%3Atds_flgs.3%3Aott.AX_rlpgJqMVwAAew%3Athid.129987587052000%3A306061129499414%3A2%3A1546329600%3A1577865599%3A4209279681851065478&__tn__=%2AW-R/\"\n",
    "        ]"
   ]
  },
  {
   "cell_type": "markdown",
   "id": "ca356d00",
   "metadata": {},
   "source": [
    "# Define element attributes for wedriver to use for grabbing data"
   ]
  },
  {
   "cell_type": "markdown",
   "id": "b5be6b8a",
   "metadata": {},
   "source": [
    "In order to grad data, we need to know the elements where this data is defined. The challenge however is, facebook constantly changes and refreshes the naming of these attributes. Thus, we need to define a list as per page that we shall use to pull data.\n",
    "\n",
    "Everytime you run this project, this is the last sction that you need to configure according to the attributes showing in the Google Chrome developer tools that you wish to pool"
   ]
  },
  {
   "cell_type": "code",
   "execution_count": 23,
   "id": "2257d53d",
   "metadata": {},
   "outputs": [],
   "source": [
    "# Attributes include name, comment, reaction\n",
    "attribute = [\n",
    "                [\"ds bf\",\"dt\",\"dz bp\"],\n",
    "                [\"dz bi\",\"ea\",\"ei bx\"],\n",
    "                [\"dy bf\",\"dz\",\"ef bv\"],\n",
    "                [\"dy bf\",\"dz\",\"ef bv\"],\n",
    "                [\"dz bf\",\"ea\",\"eg bw\"],\n",
    "                [\"dz bf\",\"ea\",\"eg bw\"],\n",
    "                [\"ea bf\",\"eb\",\"eh bx\"],\n",
    "                [\"dy bf\",\"dz\",\"ef bv\"],\n",
    "                [\"ds bf\",\"dt\",\"dz bp\"],\n",
    "                [\"dy bf\",\"dz\",\"ef bv\"],\n",
    "                [\"dy bi\",\"dz\",\"ef bw\"],\n",
    "                [\"ee cy\",\"ef\",\"el cb\"],\n",
    "                [\"dy bf\",\"dz\",\"ef bv\"],\n",
    "                [\"ds bi\",\"dt\",\"dz bq\"],\n",
    "                [\"dz ct\",\"ea\",\"eg bw\"],\n",
    "                [\"ds bi\",\"dt\",\"dz bq\"],\n",
    "                [\"ds bf\",\"dt\",\"dz bp\"],\n",
    "                [\"ds bf\",\"dt\",\"dz bp\"],\n",
    "                [\"dy bi\",\"dz\",\"ef bw\"],\n",
    "                [\"dz bf\",\"ea\",\"eg bw\"]\n",
    "            ]"
   ]
  },
  {
   "cell_type": "markdown",
   "id": "82d1c765",
   "metadata": {},
   "source": [
    "# Initialize return variable where scrapped data will be stored"
   ]
  },
  {
   "cell_type": "code",
   "execution_count": 24,
   "id": "36db339c",
   "metadata": {},
   "outputs": [],
   "source": [
    "# Return variable will be a list that can be converted to csv or Excel later on\n",
    "return_variable = [\n",
    "    [\"Name\",\"Comment\",\"Reactions\"]\n",
    "]"
   ]
  },
  {
   "cell_type": "markdown",
   "id": "ad09fad4",
   "metadata": {},
   "source": [
    "# Loop through posts and attributes to fetch data"
   ]
  },
  {
   "cell_type": "code",
   "execution_count": 25,
   "id": "244935b7",
   "metadata": {},
   "outputs": [],
   "source": [
    "for post_url, attribute_list in zip(post, attribute):\n",
    "    \n",
    "    #navigate to post\n",
    "    driver.get(post_url)\n",
    "    \n",
    "    #get attributes\n",
    "    name_attr = attribute_list[0]\n",
    "    comment_attr = attribute_list[1]\n",
    "    react_attr = attribute_list[2]\n",
    "    \n",
    "    #grab data on page\n",
    "    names = driver.find_elements_by_xpath(\"//a[@class='\" + name_attr + \"']\")\n",
    "    comments = driver.find_elements_by_xpath(\"//div[@class='\" + comment_attr + \"']\")\n",
    "    reactions = driver.find_elements_by_xpath(\"//a[@class='\" + react_attr + \"']\")\n",
    "    \n",
    "    for name, comment, reaction in zip(names, comments, reactions):\n",
    "        row = [name.text, comment.text, reaction.text]\n",
    "        return_variable.append(row)"
   ]
  },
  {
   "cell_type": "markdown",
   "id": "6c1ac6c6",
   "metadata": {},
   "source": [
    "# Convert results into a csv file"
   ]
  },
  {
   "cell_type": "code",
   "execution_count": 26,
   "id": "3ef393cc",
   "metadata": {},
   "outputs": [],
   "source": [
    "#We will use the panda lib to convert results into a csv file (scrapped_data.csv)\n",
    "import pandas as pd\n",
    "df = pd.DataFrame(return_variable)\n",
    "df.to_csv('scrapped_data.csv', index=False, header=False)"
   ]
  },
  {
   "cell_type": "markdown",
   "id": "e096bca5",
   "metadata": {},
   "source": [
    "# Print the results"
   ]
  },
  {
   "cell_type": "code",
   "execution_count": 27,
   "id": "d561ba01",
   "metadata": {},
   "outputs": [
    {
     "name": "stdout",
     "output_type": "stream",
     "text": [
      "[['Pumulo Mayungo', 'This is the reason why I trust and respect soldiers. They will never let us down as citizens not even a single day unlike the police. Theirs is to protect citizens with impartiality regardless of who is involved in acts of violence. 👏👏👏', '159'], ['Collins Kafunga', 'Well done zambia army your loyalty is to the people and the constitution of the republic not a certain grouping of corrupt individuals like other security wings does', '75'], ['John Marks', 'These PF cadres actually complained to their SG Davies Mwila ati nomba won\\'t the soldiers start harrassing us because of using military titles. Then Davies assured them that they won\\'t be touched. I still think Lungu is trying to use the army to rig but it might backfire,if the military doesn\\'t tolerate nonsense. Nomba the army commander Sikazwe is compromised they should just do a mutiny against him if he asks them to do \"funny rigging things\".', '16'], ['Barbra M Chembo', 'The moment I heard soldiers are deployed to safeguard the citizens even my heart was at peace coz I knew that we will surely be protected', '37'], ['Mako Kutemba', 'Job well done to our Zambian soldiers for protecting us from these criminals', '8'], ['Edwin Mbanga', 'Bravo Zambian Soldiers. I salute you. ECL made the right move. We need peace and sanity in our country. Ensure these demons are prosecuted and should not be allowed back into society.', '61'], ['Christine Munkombwe', 'You can tell which party he belongs to by just looking at him. Job well done defence forces, please defend us from these ruthless people.', '9'], ['Mazuba Nyirenda', 'I think this is the chance to smoke all so called commanders now by the army. Like this elections will be free and fair. Bravo armed forces.', '10'], ['Misheck Kakonde', 'At Commander these criminals should know that only the army or Security wing is supposed to use such terms as Commander. Please as army continue with the great work smoke them out especially in Chawama and bus stations. They masquarade as commanders which batallions do they Commander. The army should ensure he smokes out the confusion he has. We have only Zambia to protect and you use violence as caders to protect one man surely, instead of protecting Zambia as this is where the sovereign of the State is. Keep it president HAKAINDE HICHILEMA for president for better leadership.', '23'], ['Prince Omega Munyama', 'The police and the ecz are the only pf strongholds in this election... The general citizens and the country at large we are all upnd', '21'], ['Agnes Mumba-Wilkins', 'What a negative historical legacy. Leaders should always prepare themselves psychologically that no one stays in power forever. Better to leave gracefully not in this destructive way.', '82'], ['Amake AP', 'So embarrassing, the whole world can see what is going on here🤦\\u200d♀️', '29'], ['Anisha Namutowe', \"Facts are that Lungu is expected to win, not that he deserves the win, but because he has orchestrated events to turn the political tide in his favor. It doesn't matter whether Zambians want him or not. He is determined to position himself at the top whether we want him there or not. And he will get there, unless the God of this nation that proclaims itself Christian works a miracle for the people. Bottom line is, Lungu does not deserve to win. He might not win legally. But he will win anyway. Unless.... a miracle happens to twart the well-orchestrated evil plans of the PF.\\n\\nHallelujah.\", '117'], ['Malungu Steve', 'It is wrong to ask who will rule. The ability to vote a bad government out of office is enough. That is democracy', '23'], ['Regina Lufungulo Mumbi', 'Lungu the Whole World is watching your evil plan. You can’t manage to run Zambia without the international community.', '59'], ['Chipasha Mulahachi Mwenya', 'American Propaganda is the worst of them all. Zambia is a sovereign state and it must be treated as such. All these are shallow opinions and these people must report more about the continued gun violence in their country and also the racial discrimination going on there.', '71'], ['Ben Chilufya', 'We already know who we are voting for,, Anyone who will try to overturn the will of the people will see. This goes to kaizer Zulu who is well known for election mulpractic. You guys are enjoying & the majority of Zambians are suffering. I know the military are for the people. If God is for us who can be against us.', '55'], ['Evangelist Muwela G Libako', 'Many of you think is a humble guy. Lungu is not just a public speaker.\\nZambians what are you doing as an individual to make sure that this dictator is removed from State house??', '30'], ['Woods Lemba', 'He will go down as a thorn in the flesh in most Zambians. He is so mean with his opponent.', '30'], ['Mike Muhanga', 'Very embarrassing ,but why is PF and lungu forcing themselves on the people of Zambia who have decided to go for Bally .', '14'], ['Ben Chilufya', \"That's an illegal activity, Kambwili & pf's desperation,, See now lives are being lost,, But kwena you are heartless.\", '41'], ['Frederic Gerniers', \"Wow! PF is desperated!\\nAnd people too!\\nReally! Is there anything of value to find there?\\nDo they they even know what they are looking for?\\nWhat does it benefit you to be allowed to scavenge the soil for copper for a week or two (because obviously illegal and dangerous) in the promise of your vote?\\nIn fact in promise of 5 years of darkness and misery...\\nSounds like: He! We cannot pay you so go and fetch your salary yourself in our government mines! 😂\\nI don't understand or is it #freezuma kind of fashion?\", '15'], ['David Musonda Fundanga', 'If you have a girlfriend in luanshya video call her pulizi. She might just doing illigal mining uko u have heard. Napita', '41'], ['Micheal Mubanga Mwenya', 'There is nothing wrong to give it to the community.. you steal alot from the community better they get what is theirs.', '25'], ['Biko Ama Steven', 'ubupuba at the very best, so these people think this will continue even after elections?? What kind of stupidity do we have in Zambia kanshi, allowing this lawlessness just for votes, I wonder what the future holds for Zambia, it’s seems other countries are advancing while we go backwards', '20'], ['Tao Nga', \"There is nothing good about giving people this pit koz very soon u will hear a trugidy in luanshya\\nPeople will die soon a alot\\nIt's not safe for anyone the government all because they want people to vote for them they gave this unsafe thing to people\", '12'], ['Joshua Masuku', \"Those of you that don't know what is happening, this is an open pit mine in Luanshya. This mining site is owned by a private company but citizens have invaded it and are collecting copper ore illegally.\\nThis is so unfortunate.\", '7'], ['Kalasha LK', \"That's wonderful news good for them this is Zambians resources it's ours\", '33'], ['Kasela Hommie', \"A lawyer was shot dead,a student died,an innocent chawama girl was shot...but we didn't see any Lubinda or znbc talk strongly and condemning the police...now some cadre dies and it's making rounds on every media....zambia is becoming unbecoming ...\", '16'], ['Mulenga Chileshe', \"It's only the pro imperialists that would condenm this move. These resources belong to us Zambians\", '30'], ['Ngosa Charles', \"A normal parent will not send his or her child only after elections as this time around it's not safe. Remember Mugala was killed by a stray bullet from a state machinery. There are armed soldiers and police recruits on the looose.\", '42'], ['Fred Bwalya', \"Kkkkkkk for the first time to open schools on Thursday. Guys don't go there first we finish voting bushe uyu mwana abashani just weak up from his dream and start talking like a baby sure!!! Please don't put Zambia in your pocket, Zambia doesn't belong to your family.\", '25'], ['Bashi Bless Donald', \"Total confusion at it's peak.Some schools are polling stations and some teachers are election polling agents/officers.So how is this simteneuos equation going be solved and balanced mwebantu? Why the rush when 16th of August is just 4 days after voting....12th?\", '2'], ['Myra Nakabanga', \"Please my dear parents don't send our brothers and sisters back to school before election day, they need and have the right to vote\", '6'], ['Maureen Daka', \"Only to those of us parents who love our children will not allow our children to go Back, only after elections other wise it's not safe as we speak some parents are preparing to take their children me can't never let's coperate parents and teachers\", '6'], ['Martins Meamui Lufunda Lufunda', 'None of my relatives will be sent to school before elections. What if war erupts? Moreover, HH will not hold them accountable after his victory.', '1'], ['Bornface Sibanda', \"The simple logic behind this in my own opinion is that\\n1-We will have voter apathy for students who are in colleges and universities as most of them will not be able to vote.\\n2-Its like it was a well calculated move to sideline those in colleges and universities to open in the name of online lessons when we have a pathetic and and overpriced internet bundles services in Zambia\\n3-The government is trying to prevent riotous behavior in instances of unsatisfying results\\n4-The other camp is aware of the voting patterns from the students who are in colleges and universities\\n5-Why didn't they open for also the students who are in the exam classes ?\\n6-What is the rush to open for the pupils as if it's an emergency for them to go back to school when we are in the compaign period\", '14'], ['Emmanuel Kabwe', \"But why 10 &11 opening in boarding schools while days schools not opening and these will write same exam one day. It's not balancing here! something fishy.\", '1'], ['Words Are Enough', 'Why an urgent change, I smell a rat, people think about it, why a week before General Elections.uh uh Ani sepi Luna bo kamashungu aluboni hande.Why us we were psychological prepared for a different date, Batili.', '28'], ['Balula Yemba Loloji', 'Lol!\\nUPND will massively win in Southern province and PF will massively win in Muchinga where Mpulungu is. NOT ROCKET SCIENCE!', '4'], ['Frida Nambaya', 'Bamambwe abo bakamitolesha umupamba lolela GBM had a rally they come in huge numbers, Edgar same , HH same, ask me it is don,t kubeba they will give you false hope,', '7'], ['Osward Besa', \"We're almost there family members of Upnd, let's love 💕 one another, we're just one!\", '15'], ['Noritah Mwanza', 'PF is gone they stopped listening instead of looking after the people who voted for them they concentrated on their pockets.', '7'], ['Sky Chisha Nkonde', 'This election is going to be easy election in the history of Zambia .....coz by 12 hh should be known has a president of Zambia', '12'], ['Jacqueline Nakamba', 'Mpulungu was long lost, people lost credence in \"Laughing matters\" ever since they saw him opening his mouth any how..\\nHad there being no Violence in NAKONDE the same would have happened\\n❣❣🇿🇲🇿🇲🇿🇲❤❤❤👋🏾👋🏾👋🏾👋🏾\\n#Vote4Change', '1'], ['Chikungu Miqual', \"I believe we're now ready for the poll, let the games begin. But remember, no fighting as we have only one Zambia, one nation, and it's bigger than all of us.\", '10'], ['Draxler G Songiso', \"Don't be deceive with this croud 🤧 there ar 500 From Lusaka ,200from other provincess ✊we know he go with his own people to deceive people monga anabantu\", '5'], ['Asa Amisi', \"It's good that people are not listening to that tribalist campaigner who doesn't want people to vote for a fellow Zambian.\\nHe has no national interest at heart. He just wants to campaign for PF so that he can avoid jail.\\nHe wants Zambians to bail him out; he wants to enjoy life at the expense of poor Zambians.\\nIt's good that voters haven't paid attention to his selfish campaigns and instead are supporting the person they want HH who's a fellow Zambian anyway.\", '1'], ['Jeff PS Kalobwe', 'People have never been this in Love with UPND.\\nThe rise in poverty levels in this Country seems to be doing a favor for them.\\nBut EL can not just let go of the Sweet Honey.', '117'], ['Mushika Obed Simukama', 'Let\\'s just accept that these \"humble\" people are being humbled out of power next week.\\n\\nDon\\'t compare Uganda and Zimbabwe to Zambia. Zambia is a Christian Nation so hypocrisy by leaders showing that they are Christians while emporverishing the country and dividing it further on tribal lines has not sat well with God. God is taking charge now whether you like it or not. Just humble yourselves and submit to His will. 🙏🙏', '2'], ['Anthony C Lungu', 'Everyone is voting PF into Power again. God has some good works for this country through PF beyond 2021.', '57'], ['Lymple Brianz Milz', \"I've never seen a confused country like Zambia sure bali muvitenge va PF but busy shouting forward 😂😂😂😂 waris sure😂😂😂\", '99'], ['Peter Kokoliko', 'That is what happens when you exalt yourself so highly that you start implementing what you think is what people need most instead of consulting them. PF prides in the infrastructure. Yes, you have given them the frastructure but is it what people needed most?\\nPeople wanted a thriving economy because it gives lasting jobs and business opportunities. The strong economy can then build infrastructure with less borrowing\\nApa, bola naikosa mu PF camp, naimwe bene ba PF, mukosefye. Mwi tontonkanya nangu uku lila sana kuti mwafwa ne chikonko.', '29'], ['Asa Amisi', 'I have been advising the media to warn some sensitive viewers with BP to take precaution when watching such videos.\\nThe advice could be like:\\n\\n\"We would like to warn PF party members that the video you are about to watch may be depressing, annoying and upsetting as we head towards the polls.\"', '101'], ['Asa Amisi', \"Ati there's no wind of change.\\nStart preparing farewell speeches in case those other plans don't work out for you.😃😃😃\", '19'], ['Gift Kabamba', \"I was there, it's true.\", '19'], ['Noritah Mwanza', 'The late Un Patriotic Front dead burial is next week on thursday. Another Independence celebration but this time economic liberation.', '21'], [\"Aaron Chipego-Gift Ng'andu\", 'Pf will have it hard to accept they are the only party that ruled for 10 years only whilst their friends ruled for 27 years and 20 years respectively.This is why they are busy shouting #alebwelelapo thinking this is a soccer match.', '63'], ['Kondwani Banda Youth Advocate', 'Nikudala Ma Poem...', '3'], ['Nonde Mulenga', \"These girls doesn't know what they are talking about. We put people in government to govern and regulate things like corruption and other things... It's difficulty to control a human being..\", '3'], ['Richard Njongo', \"THE CHILDREN HAVE SUMMED ZAMBIA'S PROBLEM.SURE! THEY ARE THE FUTURE LEADERS INDEED.!!!\", '2'], ['Michael MicLuv', 'CHANGE is INEVITABLE for better Zambia. Desperation is a disease that has destroyed pf govt.', '2'], ['Bright Mwansa', \"Zambia is for every one and this is campaign period what more do you want?? Dedaining a running mate with 5 days to the poll it doesn't sit well with me\", '1'], ['Fabian Favour Chalwe', 'What are citizens supposed to do if oppressed by those mandated by the law, maybe the international community knows a better way they advise', '4'], ['Jim Paulson', 'Humble christian my foot! That guy is a dictator!', '10'], ['Jørrybest Mwendalali', 'Lungu will pay for this', '6'], ['Igwee Ravstar', 'Here is a public\\nannouncement please be informed that:\\nthe inauguration ceremony for the just elected president of Zambia Mr HAKAINDE HICHILEMA will take place in Levi Mwanawasa stadium Ndola ...\\non Monday 16 August 2021\\nTime 10:00hours until done\\n\\nplease you are advised to wear a masks on that day', '1'], ['Limpo Nkantembulo', 'Awe sure theliz bwafya any way but it is well everything has time when God says yes no body can say no', '6'], ['Moses Odoi Jnr', 'Voting for a greed man is same as wasting your vote,I will vote for a leader who has a heart for the people', '1'], ['Sebastian Kalunga', \"I have watched this video repeatedly and I feel like I have cheated on my girlfriend, anyway babe just in case you come across this comment I am sorry it's just that my eyes betrayed me they couldn't resist watching more and more...\", '79'], ['Evangelist Akabana', 'Editor be serious my brother. we are not children. What is that childish video for. Give us News always not this crap. We know you for digging deeper into PF bedrooms and bring us news. Be consistent like HH man.', '3'], ['Kamana Ndumba', 'I have watched more than thrice, Kaya how many times it will be by tomorrow', '3'], ['Iwe Vote Wisely Nichani', 'Her name should be \"Flexible\" teh?\\n\\nAnyways, let me watch her for the 10th time, and the i will continue at night.😂😂', '29'], ['Astridah Chuma', \"I have watched it more than five times please my husband if you come across this video don't worry I will also start training 🤣🤣🤣\", '23'], ['Jonathan Zyambo', '😂😂 why have i watched it more than twice though💀💀👌', '5'], ['Nathan Libanga', 'My eyes were firmly fixed on the Adidas nothing else..them shoes are #Lit..🔥', '1'], ['Philip Mwamba Chilomo', '3 times in 10 minutes.There should be a barn on exporting such valuable national treasures.These products should be for Zambians only.😆😆', '10'], ['Bolingo Bolingo', 'Please HH when you win bring this one to Dance at Levy mwanawasa stadium. This time inauguration Heroes theliz no, too much bad memories.', '39'], ['Victoria Nampungwa Namwaka', \"Let's gather here if you know you have watched it more than once 😂\", '34'], ['Liswaniso Siyamba', 'Desparate evil Lungu and his barbaric police are now behaving like lunatics devoid of any civility. They will not succeed in their evil schemes. God forbird! Zambia is not Lungu or PFs personal property.', '7'], ['Chrispin Simasiku', 'Tribalism, Jealous Downfall to shame. One ZAMBIA ONE NATION ! What A ZAMBIA we are Living In Under Police Autocratic pf Misrule regime ! 6 Days Remaining, ZAMBIANS , ARISE REDEEM Yourselves From this Dictatorship On 12Th August.', '5'], ['Inonge Mubiana', 'Blocking him everywher he goes is not free and fair elections', '7'], ['Leonard Machili', 'Only fool can support what police a doing for HH this is Zambia not pf one day God he is going to push you people anyway only God knows 7 days remaining we see', '5'], ['Justine Mwamba', \"good advice to the evil pf regime pleaz leave HH alone blocking him will cost u this elections u cant go into the ring to fight with your opponent while u av tide his hands and legs ba lungu to tell u the facts GOD will fight for HH on 12th what u're doing is not good in a democratic country zambia is bigger than u and your pf namulya nafifula nefyuma mwalekabila namunonka let your freind also abombeko ala nechipela inkula nacho chilatusha ukukokwesha muchila kuti walubilamo .\", '2'], ['Asa Amisi', \"Why are people behaving like this.\\nIf not for other reason, atleast people must reward him with a vote for what he's endured at the hands of ruthless and dictatorial PF leadership.\", '13'], ['Tibise Machende', 'Good move. Such a divisive leader must be blocked before he complete his satanic agenda.\\n\\nLet me salute the police to truck him wherever he goes.\\n\\nOne Zambia one Nation.', '1'], ['Levy B Lungu', \"It's not the police or pf blocking hh but bill 10 is which hh himself blocked now it's also blocking him.\", '2'], ['Kasamba Steriah Mudenda', \"This has honestly hurt and touched me, couldn't finish watching the entire clip. People have recognized her and the baby I am sure. This is a wrong way of solving a problem. We're people before we're workers. Her kids are hungry, the relish can tell you that surely.. We can do better..\", '188'], ['Nel Harriott', \"It's good that the thief was caught, but I cry inside for the poverty that forces such actions. Please forgive them and send them home with a hamper for their households\", '409'], ['Sherif Godric Stackhouse Northman', 'How much was the Bill? Dear Management as a concerned citizen, ubwikalo nabushupa. Desperate measures being employeed there. I Will foot the Bill. She just wanted something to feed her daughter and spoil her pa new year. No one has Never gone to desperate measures to provide for the family. Please give us your location ba management. Twalalipila that little child should have a gud ending to her 2020 and beginning to her 2021.', '224'], ['Andrew Sakazhila', 'Why bring such a case on facebook how does it serve the nation but just to humiliate her and besides you have security protocols with directives for such. These are things that happen with people who are so desperate to feed their homes, theft is very wrong but some empathy should have been applied before posting this.', '347'], ['Sierra Mike', \"This ain't right, instead of exposing them, why not hear their challenges and help them.\", '103'], ['Nalu Masule', 'Not necessary to put it on social media...its not everyone that can afford a meal,she is a mother and obvious she was doing it for her children..there is nothing more painful than seeing your children sleep on an empty stomach...', '62'], ['Paul Mwape', 'It just shows you how bad things really are in Zambia, She wanted to feed her baby and most probably the rest of the hungry family at home\\n\\nher Motherly instincts are what entered her', '130'], ['Patrick Mwila', \"If she stole something like alcohol I would have even advised that they beat her up but seeing that she stole food to go and feed her family and soap to go and wash for her children I can't help it but shade tears 😢😢 it's not easy to afford such necessities nowadays 🤦🏽\\u200d♂️ I feel sorry for the mother and her cute baby as I'm trying to imagine what she might be going through. But was it that necessary to take a video and embarrass her on social media especially by a fellow mother anyway I'm not here to judge coz such is common these days\", '42'], ['Sanny Banda', \"Hard times , this breaks hearts coz these women didn't steal material stuff like weaves,makeup or clothes. The stole food for there families. Stealing is bad no excuse and some people fall for this to avoid looking at hungry babies at home\", '17'], ['Shadreck Kumwenda', 'Let not judge them and its embarrassing for a lady to get a video & say such remarks from her fellow lady😢', '79'], ['Phineas Luneta', \"This what I tell my fellow disgruntled youths. Let's acquire land or else will be tenants to foreigners in our own country.\", '22'], ['Pearson Mudenda', 'This law was from colonial days. I wonder why kk kept it as it was. Chiefs should be custodians of the land not giving one person so much power. The constitution gives so much to one man. Thats why even elections are rigged because the so called president appoints the ecz boss, chief justice, police commissioner, the speaker, chief justice ,army commander as well allocate land as he wishes. We need to rise up and demand change.', '5'], ['Donald Oscar Phiri', 'Worse when when we have greedy people in leadership.......kaya!', '2'], ['Denniss Mpota', \"That is why I don't vote because the system still remains the same. Only faces change if we don't change such laws.\", '2'], ['Martin Musonda', \"Because zambia is just one bush without policies that's why anyone can walk in and do as they wish\", '3'], ['Kopala Physio', 'Simple! Ninsala! Do u know that council people dont get paid? Not on time and not in arrears. So how do they survive? Foreign nationals come with foreign currency which is huge bills of the weak kwacha. Now figure it out', '1'], ['Rejoice Rejoice', 'Awe ba watchdog read again and understand.allowances have not been scrapped off rather they ll not be increased as it has always been when they increase the basic salary', '6'], ['Imela Okaka Ptl', 'This will.be helpful as we go to polls. We will not struggle to make choice of who goes and who comes in.', '10'], ['Chris Kakenenwa Mukena', 'This is a good move by the government because some the so called civil servants are stupid and dull', '13'], ['Sydney Cazorla Inambao', 'I head on radio on Monday about the the double percentage increment and i felt bad for our colleagues', '1'], ['Chanda Chalwe', 'This government is heartless, they told everyone who is in Management that they are not Unionised and then Boom, PF at work.', '1'], ['Nancy Chichi Mubiana', \"It's good that the government has done that\", '1'], ['Fisher Moole', 'Vote wisely OK!', '4'], ['Evans Kabwita', 'And you still have some civil servants still wanting to vote PF like really??', '4'], ['Alick Phiri', 'God is good all the time, all the time, God is good. He has seen you and I through the rough 2020 and we survived. Here we are in the new year. Let us praise His holy name for His kind mercies. He will surely see us through again if we continue abiding in Him in this new year 2021. Happy and prosperous new year to everyone.', '12'], ['Victor Chitafu', 'This is the year (2021) God shall not turn away punishment from PF and its leaders because of their manifold transgressions against humanity and the LORD!', '1'], ['Herrick Likembe', 'My watch showing that am still in 2020, you who are already there how does it feel to be in 2021? Advise if I should also come or I remain here in 2020', '2'], ['Jubilee Sichintolo Zilagola', 'Awee ritual killings, bullet shots, gassing this country we are tired.', '5'], ['Aub Simz', 'Watchdog can you at once stop thinking about politics, please be Zambian for once', '11'], ['Samson Chembe', 'My voters card is intact and my long awaited 2021 is here,Bally all the way!', '2'], ['King Pat Liotec', 'Let us not say we have passed all those tribulations this is PF for you am sure they are on the ground planning another latest bomb for 2021', '2'], ['Steven Phiri', \"With this poverty caused by pf through corruption iwe bush kanama supporting blindly i now believe you're a bootlicker PF the worst government since independence .HH 2021 He will be republican president of mother zambia\", '1'], ['Simon M Tembo', 'Sori sori sori Lungu is hear to stay', '3'], ['Bornface Mwape', \"he must change the entire cabinet coz some are corrupt and just making reshuffles it wont have any pedigree since they're already prone to corruption.\", '1'], ['Chileshe Patrick Chanda', 'unfortunately he is late.Those he is going to fire will leave the party for NDC or Dp.Time has been waisted.', '1'], ['Brian Mutemwa Muhali', \"He can't arrest them because if he does he will be FIRED\", '2'], ['Progy Miles Muvz', 'Welcome to the world of caders', '2'], ['Musa', 'Cadres have become the owner of the law, that’s how pf became weak!!', '2'], ['Samuel Kutemba', 'This is not the Zambia we want.', '3'], ['Nazareth Nembenge', 'Why is he falling around?', '11'], ['Austin Shula', 'Anderson Kambenja ....see your uncle kuno', '2'], ['Japheth Kiola', \"This Shows How peaceful Zambia is ,Folks playing with Guns like Toys Really like this. Its Totally Strange.. GO TO OTHER COUNTRIES like Kenya and See Whether you Won't be a Dead Meat b4 you even Know how to Hold it..\", '3'], ['Francis Antonio Chiko Jr.', 'Niga cant handle the recoil. Dont be worried he will miss you 99% if you are moving. Am a weapons expert.', '2'], ['Sampa Mumba', \"Even you if you have money you can buy that Riffle its non military,stop misleading people am sure he has papers for that weapon don't be fooled\", '6'], ['Kale James', 'That video has been there for a while rubbish news, let’s talk about 48 houses, mukula, fuel, n mealie meal since we on the count down', '3'], ['Jack Oats', 'You need fourteen thousand one hundred and eighty two zambian kwachas to exchange with a single american dollar.', '1']]\n"
     ]
    }
   ],
   "source": [
    "print(return_variable)"
   ]
  },
  {
   "cell_type": "markdown",
   "id": "46f8cbfc",
   "metadata": {},
   "source": [
    "# This marks the end of data collection"
   ]
  },
  {
   "cell_type": "code",
   "execution_count": null,
   "id": "ff365891",
   "metadata": {},
   "outputs": [],
   "source": []
  }
 ],
 "metadata": {
  "kernelspec": {
   "display_name": "Python 3",
   "language": "python",
   "name": "python3"
  },
  "language_info": {
   "codemirror_mode": {
    "name": "ipython",
    "version": 3
   },
   "file_extension": ".py",
   "mimetype": "text/x-python",
   "name": "python",
   "nbconvert_exporter": "python",
   "pygments_lexer": "ipython3",
   "version": "3.8.8"
  }
 },
 "nbformat": 4,
 "nbformat_minor": 5
}
